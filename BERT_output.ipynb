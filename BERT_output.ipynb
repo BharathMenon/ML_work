{
 "cells": [
  {
   "cell_type": "code",
   "execution_count": 1,
   "id": "670380ea",
   "metadata": {},
   "outputs": [],
   "source": [
    "#Just understanding bert attributes.."
   ]
  },
  {
   "cell_type": "code",
   "execution_count": 7,
   "id": "44cd9e86",
   "metadata": {},
   "outputs": [],
   "source": [
    "import tensorflow_hub as hub\n",
    "import tensorflow_text as text"
   ]
  },
  {
   "cell_type": "code",
   "execution_count": 2,
   "id": "0a28cb63",
   "metadata": {},
   "outputs": [],
   "source": [
    "preprocess_url = 'https://tfhub.dev/tensorflow/bert_en_uncased_preprocess/3'\n",
    "url = 'https://tfhub.dev/tensorflow/bert_en_uncased_L-12_H-768_A-12/4'"
   ]
  },
  {
   "cell_type": "code",
   "execution_count": 3,
   "id": "e7d4f8e8",
   "metadata": {},
   "outputs": [],
   "source": [
    "bert_preprocess_model = hub.KerasLayer(preprocess_url)"
   ]
  },
  {
   "cell_type": "code",
   "execution_count": 4,
   "id": "808eafe6",
   "metadata": {},
   "outputs": [
    {
     "data": {
      "text/plain": [
       "dict_keys(['input_type_ids', 'input_mask', 'input_word_ids'])"
      ]
     },
     "execution_count": 4,
     "metadata": {},
     "output_type": "execute_result"
    }
   ],
   "source": [
    "text_test = ['nice movie indeed','I love java programming']\n",
    "text_preprocessed = bert_preprocess_model(text_test)\n",
    "text_preprocessed.keys()"
   ]
  },
  {
   "cell_type": "code",
   "execution_count": 5,
   "id": "4daf4930",
   "metadata": {},
   "outputs": [
    {
     "data": {
      "text/plain": [
       "dict_keys(['pooled_output', 'sequence_output', 'default', 'encoder_outputs'])"
      ]
     },
     "execution_count": 5,
     "metadata": {},
     "output_type": "execute_result"
    }
   ],
   "source": [
    "bert_model = hub.KerasLayer(url)\n",
    "bert_results = bert_model(text_preprocessed)\n",
    "bert_results.keys()"
   ]
  },
  {
   "cell_type": "code",
   "execution_count": 8,
   "id": "f8a0ca5d",
   "metadata": {},
   "outputs": [
    {
     "data": {
      "text/plain": [
       "<tf.Tensor: shape=(2, 128, 768), dtype=float32, numpy=\n",
       "array([[[ 0.0729205 ,  0.0856782 ,  0.14476842, ..., -0.09677088,\n",
       "          0.08722158,  0.07711128],\n",
       "        [ 0.17839359, -0.190061  ,  0.50349385, ..., -0.0586981 ,\n",
       "          0.3271711 , -0.15578535],\n",
       "        [ 0.18701442, -0.43388787, -0.48875144, ..., -0.15502739,\n",
       "          0.00145156, -0.24470964],\n",
       "        ...,\n",
       "        [ 0.12083052,  0.12884241,  0.4645356 , ...,  0.07375539,\n",
       "          0.17441928,  0.16522132],\n",
       "        [ 0.0796783 , -0.01190706,  0.5022544 , ...,  0.13777801,\n",
       "          0.21002187,  0.00624593],\n",
       "        [-0.07212718, -0.28303438,  0.5903338 , ...,  0.4755192 ,\n",
       "          0.16668445, -0.08920303]],\n",
       "\n",
       "       [[-0.12585038,  0.25200215, -0.18621072, ..., -0.25491405,\n",
       "          0.19071716,  0.57345295],\n",
       "        [ 0.24588701,  0.10877021, -0.22500353, ...,  0.00839747,\n",
       "          0.464359  ,  0.26592264],\n",
       "        [ 1.0216509 ,  0.9546565 ,  0.5649073 , ...,  0.20000815,\n",
       "          0.45265117,  0.18163139],\n",
       "        ...,\n",
       "        [-0.09452432,  0.06106815,  0.385759  , ...,  0.10827812,\n",
       "         -0.10667591,  0.07458459],\n",
       "        [-0.2651739 ,  0.05534982,  0.33072448, ..., -0.0012962 ,\n",
       "         -0.10148661,  0.16989937],\n",
       "        [-0.36446345, -0.22949734,  0.25178033, ...,  0.01872643,\n",
       "         -0.15974477,  0.01122092]]], dtype=float32)>"
      ]
     },
     "execution_count": 8,
     "metadata": {},
     "output_type": "execute_result"
    }
   ],
   "source": [
    "bert_results[\"sequence_output\"]"
   ]
  },
  {
   "cell_type": "raw",
   "id": "600d2ed1",
   "metadata": {},
   "source": [
    "import tensorflow as tf\n",
    "print(tf.__version__)"
   ]
  },
  {
   "cell_type": "code",
   "execution_count": null,
   "id": "78162750",
   "metadata": {},
   "outputs": [],
   "source": []
  }
 ],
 "metadata": {
  "kernelspec": {
   "display_name": "Python 3 (ipykernel)",
   "language": "python",
   "name": "python3"
  },
  "language_info": {
   "codemirror_mode": {
    "name": "ipython",
    "version": 3
   },
   "file_extension": ".py",
   "mimetype": "text/x-python",
   "name": "python",
   "nbconvert_exporter": "python",
   "pygments_lexer": "ipython3",
   "version": "3.10.9"
  }
 },
 "nbformat": 4,
 "nbformat_minor": 5
}
