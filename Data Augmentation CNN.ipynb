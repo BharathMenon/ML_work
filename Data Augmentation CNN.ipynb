{
 "cells": [
  {
   "cell_type": "code",
   "execution_count": null,
   "id": "d5a27903",
   "metadata": {},
   "outputs": [],
   "source": [
    "import numpy as np\n",
    "#import cv2\n",
    "import PIL\n",
    "import os\n",
    "import cv2\n",
    "import tensorflow as tf\n",
    "from tensorflow import keras\n",
    "import matplotlib.pyplot as plt\n",
    "from tensorflow.keras import layers,datasets,models\n",
    "from sklearn.metrics import classification_report\n",
    "from sklearn.metrics import confusion_matrix\n",
    "from keras import Sequential,layers"
   ]
  },
  {
   "cell_type": "code",
   "execution_count": null,
   "id": "45e4d624",
   "metadata": {},
   "outputs": [],
   "source": [
    "dataset_url = \"https://storage.googleapis.com/download.tensorflow.org/example_images/flower_photos.tgz\"\n",
    "data_dir=tf.keras.utils.get_file('flower_photos',origin=dataset_url,cache_dir='.',untar=True)\n"
   ]
  },
  {
   "cell_type": "code",
   "execution_count": null,
   "id": "14db303b",
   "metadata": {},
   "outputs": [],
   "source": [
    "import pathlib\n",
    "data_dir = pathlib.Path(data_dir)"
   ]
  },
  {
   "cell_type": "code",
   "execution_count": null,
   "id": "091c4b46",
   "metadata": {},
   "outputs": [],
   "source": [
    "data_dir"
   ]
  },
  {
   "cell_type": "code",
   "execution_count": null,
   "id": "304f1912",
   "metadata": {},
   "outputs": [],
   "source": [
    "len(list(data_dir.glob('*/*.jpg')))"
   ]
  },
  {
   "cell_type": "code",
   "execution_count": null,
   "id": "27009f79",
   "metadata": {},
   "outputs": [],
   "source": [
    "roses = list(data_dir.glob('roses/*'))"
   ]
  },
  {
   "cell_type": "code",
   "execution_count": null,
   "id": "19ad0e70",
   "metadata": {},
   "outputs": [],
   "source": [
    "PIL.Image.open(str(roses[2]))"
   ]
  },
  {
   "cell_type": "code",
   "execution_count": null,
   "id": "966e104b",
   "metadata": {},
   "outputs": [],
   "source": [
    "flower_images_dict = {\n",
    "    'roses':list(data_dir.glob('roses/*')),\n",
    "    'daisy':list(data_dir.glob('daisy/*')),\n",
    "    'dandelion':list(data_dir.glob('dandelion/*')),\n",
    "    'sunflowers':list(data_dir.glob('sunflowers/*')),\n",
    "    'tulips':list(data_dir.glob('tulips/*')),\n",
    "}"
   ]
  },
  {
   "cell_type": "code",
   "execution_count": null,
   "id": "4064d9b2",
   "metadata": {},
   "outputs": [],
   "source": [
    "flower_label_dict = {\n",
    "    'roses':0,\n",
    "    'daisy':1,\n",
    "    'dandelion':2,\n",
    "    'sunflowers':3,\n",
    "    'tulips':4,\n",
    "}"
   ]
  },
  {
   "cell_type": "code",
   "execution_count": null,
   "id": "298bbd95",
   "metadata": {},
   "outputs": [],
   "source": [
    "img = cv2.imread(str(flower_images_dict['roses'][0]))\n",
    "img.shape"
   ]
  },
  {
   "cell_type": "code",
   "execution_count": null,
   "id": "c0016315",
   "metadata": {},
   "outputs": [],
   "source": [
    "cv2.resize(img,(180,180)).shape"
   ]
  },
  {
   "cell_type": "code",
   "execution_count": null,
   "id": "2893779e",
   "metadata": {},
   "outputs": [],
   "source": [
    "X,y = [], []\n",
    "for flower_name,images in flower_images_dict.items():\n",
    "    for image in images:\n",
    "        img = cv2.imread(str(image))\n",
    "       # print(img.shape)\n",
    "        resized_img = cv2.resize(img,(180,180))\n",
    "        #print(resized_img.shape)\n",
    "        X.append(resized_img)\n",
    "        y.append(flower_label_dict[flower_name])"
   ]
  },
  {
   "cell_type": "code",
   "execution_count": null,
   "id": "91601624",
   "metadata": {},
   "outputs": [],
   "source": [
    "X = np.array(X)\n",
    "y = np.array(y)\n",
    "X.shape"
   ]
  },
  {
   "cell_type": "code",
   "execution_count": null,
   "id": "519e3ab9",
   "metadata": {},
   "outputs": [],
   "source": [
    "from sklearn.model_selection import train_test_split\n",
    "X_train,X_test,y_train,y_test = train_test_split(X,y,random_state=0)"
   ]
  },
  {
   "cell_type": "code",
   "execution_count": null,
   "id": "1bd24b7e",
   "metadata": {},
   "outputs": [],
   "source": [
    "X_train_scaled = X_train/255\n",
    "X_test_scaled = X_test/255\n",
    "X_train.shape"
   ]
  },
  {
   "cell_type": "code",
   "execution_count": 66,
   "id": "4b9b72e1",
   "metadata": {},
   "outputs": [
    {
     "name": "stdout",
     "output_type": "stream",
     "text": [
      "Epoch 1/5\n",
      "86/86 [==============================] - 47s 526ms/step - loss: 1.4124 - accuracy: 0.3797\n",
      "Epoch 2/5\n",
      "86/86 [==============================] - 43s 505ms/step - loss: 1.0776 - accuracy: 0.5560\n",
      "Epoch 3/5\n",
      "86/86 [==============================] - 44s 506ms/step - loss: 0.9225 - accuracy: 0.6439\n",
      "Epoch 4/5\n",
      "86/86 [==============================] - 43s 500ms/step - loss: 0.7684 - accuracy: 0.7039\n",
      "Epoch 5/5\n",
      "86/86 [==============================] - 42s 491ms/step - loss: 0.5525 - accuracy: 0.7980\n"
     ]
    },
    {
     "data": {
      "text/plain": [
       "<keras.src.callbacks.History at 0x21674854190>"
      ]
     },
     "execution_count": 66,
     "metadata": {},
     "output_type": "execute_result"
    }
   ],
   "source": [
    "model = Sequential([\n",
    "    #cnn\n",
    "    layers.Conv2D(16,3,padding='same',activation='relu'),\n",
    "    layers.MaxPooling2D(),\n",
    "    layers.Conv2D(32,3,padding='same',activation='relu'),\n",
    "    layers.MaxPooling2D(),\n",
    "    layers.Conv2D(64,3,padding='same',activation='relu'),\n",
    "    layers.MaxPooling2D(),\n",
    "    #Dense\n",
    "    layers.Flatten(input_shape=()),\n",
    "    layers.Dense(128,activation='relu'),\n",
    "    layers.Dense(5)\n",
    "])\n",
    "model.compile(optimizer='adam',loss=tf.keras.losses.SparseCategoricalCrossentropy(from_logits=True),metrics=['accuracy'])\n",
    "model.fit(X_train_scaled,y_train,epochs=5)"
   ]
  },
  {
   "cell_type": "code",
   "execution_count": 67,
   "id": "50417d6a",
   "metadata": {},
   "outputs": [
    {
     "name": "stdout",
     "output_type": "stream",
     "text": [
      "29/29 [==============================] - 3s 83ms/step - loss: 0.9785 - accuracy: 0.6525\n"
     ]
    },
    {
     "data": {
      "text/plain": [
       "[0.9784730076789856, 0.6525054574012756]"
      ]
     },
     "execution_count": 67,
     "metadata": {},
     "output_type": "execute_result"
    }
   ],
   "source": [
    "model.evaluate(X_test_scaled,y_test)"
   ]
  },
  {
   "cell_type": "code",
   "execution_count": 69,
   "id": "85342c10",
   "metadata": {},
   "outputs": [
    {
     "name": "stdout",
     "output_type": "stream",
     "text": [
      "29/29 [==============================] - 2s 78ms/step\n"
     ]
    }
   ],
   "source": [
    "predictions=model.predict(X_test_scaled)"
   ]
  },
  {
   "cell_type": "code",
   "execution_count": 72,
   "id": "caa458e5",
   "metadata": {},
   "outputs": [
    {
     "data": {
      "text/plain": [
       "1"
      ]
     },
     "execution_count": 72,
     "metadata": {},
     "output_type": "execute_result"
    }
   ],
   "source": [
    "yans=[]\n",
    "for i in predictions:\n",
    "    yans.append(np.argmax(tf.nn.softmax(i)))\n",
    "yans[0]"
   ]
  },
  {
   "cell_type": "code",
   "execution_count": 73,
   "id": "18185c7f",
   "metadata": {},
   "outputs": [
    {
     "data": {
      "text/plain": [
       "1"
      ]
     },
     "execution_count": 73,
     "metadata": {},
     "output_type": "execute_result"
    }
   ],
   "source": [
    "y_test[0]"
   ]
  },
  {
   "cell_type": "code",
   "execution_count": 74,
   "id": "e65ea595",
   "metadata": {},
   "outputs": [],
   "source": [
    "data_augmentation = keras.Sequential([\n",
    "    layers.experimental.preprocessing.RandomZoom(0.3),\n",
    "])"
   ]
  },
  {
   "cell_type": "code",
   "execution_count": 75,
   "id": "286014cc",
   "metadata": {},
   "outputs": [
    {
     "name": "stdout",
     "output_type": "stream",
     "text": [
      "Epoch 1/5\n",
      "86/86 [==============================] - 50s 551ms/step - loss: 1.3457 - accuracy: 0.4201\n",
      "Epoch 2/5\n",
      "86/86 [==============================] - 44s 511ms/step - loss: 1.0749 - accuracy: 0.5669\n",
      "Epoch 3/5\n",
      "86/86 [==============================] - 45s 524ms/step - loss: 0.9462 - accuracy: 0.6384\n",
      "Epoch 4/5\n",
      "86/86 [==============================] - 44s 507ms/step - loss: 0.8637 - accuracy: 0.6632\n",
      "Epoch 5/5\n",
      "86/86 [==============================] - 45s 520ms/step - loss: 0.7847 - accuracy: 0.6926\n"
     ]
    },
    {
     "data": {
      "text/plain": [
       "<keras.src.callbacks.History at 0x216778f83d0>"
      ]
     },
     "execution_count": 75,
     "metadata": {},
     "output_type": "execute_result"
    }
   ],
   "source": [
    "model = Sequential([\n",
    "    #cnn\n",
    "    data_augmentation,\n",
    "    layers.Conv2D(16,3,padding='same',activation='relu'),\n",
    "    layers.MaxPooling2D(),\n",
    "    layers.Conv2D(32,3,padding='same',activation='relu'),\n",
    "    layers.MaxPooling2D(),\n",
    "    layers.Conv2D(64,3,padding='same',activation='relu'),\n",
    "    layers.MaxPooling2D(),\n",
    "    layers.Dropout(0.2),\n",
    "    #Dense\n",
    "    layers.Flatten(input_shape=()),\n",
    "    layers.Dense(128,activation='relu'),\n",
    "    layers.Dense(5)\n",
    "])\n",
    "model.compile(optimizer='adam',loss=tf.keras.losses.SparseCategoricalCrossentropy(from_logits=True),metrics=['accuracy'])\n",
    "model.fit(X_train_scaled,y_train,epochs=5)"
   ]
  },
  {
   "cell_type": "code",
   "execution_count": 76,
   "id": "c9e9db60",
   "metadata": {},
   "outputs": [
    {
     "name": "stdout",
     "output_type": "stream",
     "text": [
      "29/29 [==============================] - 3s 82ms/step - loss: 0.9388 - accuracy: 0.6492\n"
     ]
    },
    {
     "data": {
      "text/plain": [
       "[0.9388249516487122, 0.6492374539375305]"
      ]
     },
     "execution_count": 76,
     "metadata": {},
     "output_type": "execute_result"
    }
   ],
   "source": [
    "model.evaluate(X_test_scaled,y_test)"
   ]
  },
  {
   "cell_type": "code",
   "execution_count": null,
   "id": "3b8acc4c",
   "metadata": {},
   "outputs": [],
   "source": []
  }
 ],
 "metadata": {
  "kernelspec": {
   "display_name": "Python 3 (ipykernel)",
   "language": "python",
   "name": "python3"
  },
  "language_info": {
   "codemirror_mode": {
    "name": "ipython",
    "version": 3
   },
   "file_extension": ".py",
   "mimetype": "text/x-python",
   "name": "python",
   "nbconvert_exporter": "python",
   "pygments_lexer": "ipython3",
   "version": "3.10.9"
  }
 },
 "nbformat": 4,
 "nbformat_minor": 5
}
